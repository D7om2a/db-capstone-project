{
 "cells": [
  {
   "cell_type": "code",
   "execution_count": 1,
   "id": "2c09a4d0-cb89-4114-a488-cb4ae890d61e",
   "metadata": {},
   "outputs": [],
   "source": [
    "import mysql.connector as connector"
   ]
  },
  {
   "cell_type": "code",
   "execution_count": 8,
   "id": "f26600d0-f71b-4780-951c-67f88044543b",
   "metadata": {},
   "outputs": [
    {
     "name": "stdout",
     "output_type": "stream",
     "text": [
      "<mysql.connector.connection_cext.CMySQLConnection object at 0x00000232A4CAD550>\n"
     ]
    }
   ],
   "source": [
    "connection = connector.connect(user = \"dbuser\", password = \"dbuser.12345\", db = \"littlelemondb\")\n",
    "print(connection)"
   ]
  },
  {
   "cell_type": "code",
   "execution_count": 9,
   "id": "07157611-e2c0-4b18-be0e-ceb4e22a70eb",
   "metadata": {},
   "outputs": [
    {
     "name": "stdout",
     "output_type": "stream",
     "text": [
      "('bookings',)\n",
      "('customers',)\n",
      "('menu',)\n",
      "('menuorderdetail',)\n",
      "('orders',)\n",
      "('orderstatus',)\n",
      "('ordersview',)\n",
      "('staff',)\n"
     ]
    }
   ],
   "source": [
    "cursor = connection.cursor()\n",
    "show_tables = \"show tables\"\n",
    "cursor.execute(show_tables)\n",
    "result = cursor.fetchall()\n",
    "\n",
    "for r in result:\n",
    "    print(r)\n",
    "\n"
   ]
  },
  {
   "cell_type": "code",
   "execution_count": 13,
   "id": "c2e40eb5-ab6a-4d3e-950e-3f6b1484f59f",
   "metadata": {},
   "outputs": [
    {
     "name": "stdout",
     "output_type": "stream",
     "text": [
      "('customerName', 'contactNumber', 'customerEmail')\n",
      "('John Doe', '555-1001', 'john@example.com')\n",
      "('Jane Smith', '555-2002', 'jane@example.com')\n",
      "('Alice Brown', '555-3003', 'alice@example.com')\n",
      "('Alice Brown', '555-3003', 'alice@example.com')\n",
      "('Bob Wilson', '555-4004', 'bob@example.com')\n",
      "('Charlie Green', '555-5005', 'charlie@example.com')\n",
      "('Charlie Green', '555-5005', 'charlie@example.com')\n"
     ]
    }
   ],
   "source": [
    "query = \"\"\" select customers.customerName, customers.contactNumber, customers.customerEmail from customers\n",
    "  inner join bookings on customers.customerID = bookings.fk_CustomerID inner join orders on orders.fk_bookingID\n",
    "  where totalCost > 30; \"\"\"\n",
    "\n",
    "cursor.execute(query)\n",
    "results = cursor.fetchall()\n",
    "\n",
    "columns=cursor.column_names\n",
    "print(columns)\n",
    "\n",
    "for r in results:\n",
    "    print(r)"
   ]
  },
  {
   "cell_type": "code",
   "execution_count": null,
   "id": "6b999b4f-32b2-412a-8541-1b66e1715fcd",
   "metadata": {},
   "outputs": [],
   "source": []
  }
 ],
 "metadata": {
  "kernelspec": {
   "display_name": "Python 3 (ipykernel)",
   "language": "python",
   "name": "python3"
  },
  "language_info": {
   "codemirror_mode": {
    "name": "ipython",
    "version": 3
   },
   "file_extension": ".py",
   "mimetype": "text/x-python",
   "name": "python",
   "nbconvert_exporter": "python",
   "pygments_lexer": "ipython3",
   "version": "3.9.7"
  }
 },
 "nbformat": 4,
 "nbformat_minor": 5
}
